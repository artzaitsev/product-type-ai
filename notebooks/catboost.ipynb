{
 "cells": [
  {
   "cell_type": "code",
   "execution_count": 69,
   "id": "0bb1e2b0",
   "metadata": {},
   "outputs": [],
   "source": [
    "import pandas as pd\n",
    "\n",
    "#type\n",
    "train_df = pd.read_csv('../data/train_df.csv')\n",
    "test_df = pd.read_csv('../data/test_df.csv')"
   ]
  },
  {
   "cell_type": "code",
   "execution_count": 70,
   "id": "a216d4d8",
   "metadata": {},
   "outputs": [
    {
     "name": "stdout",
     "output_type": "stream",
     "text": [
      "0:\ttest: 0.9593191\tbest: 0.9593191 (0)\ttotal: 346ms\tremaining: 1m 43s\n",
      "50:\ttest: 0.9865958\tbest: 0.9865958 (50)\ttotal: 9.69s\tremaining: 47.3s\n",
      "100:\ttest: 0.9869715\tbest: 0.9869715 (100)\ttotal: 20s\tremaining: 39.3s\n",
      "150:\ttest: 0.9871955\tbest: 0.9871955 (150)\ttotal: 30.1s\tremaining: 29.7s\n",
      "200:\ttest: 0.9872592\tbest: 0.9872611 (196)\ttotal: 37.8s\tremaining: 18.6s\n",
      "250:\ttest: 0.9873145\tbest: 0.9873145 (250)\ttotal: 45.7s\tremaining: 8.93s\n",
      "299:\ttest: 0.9873675\tbest: 0.9873683 (298)\ttotal: 53.8s\tremaining: 0us\n",
      "\n",
      "bestTest = 0.9873683057\n",
      "bestIteration = 298\n",
      "\n",
      "Shrink model to first 299 iterations.\n"
     ]
    },
    {
     "data": {
      "text/plain": [
       "<catboost.core.CatBoostClassifier at 0x220a7ef0980>"
      ]
     },
     "execution_count": 70,
     "metadata": {},
     "output_type": "execute_result"
    }
   ],
   "source": [
    "from catboost import CatBoostClassifier, Pool\n",
    "from sklearn.metrics import roc_auc_score\n",
    "\n",
    "features = ['name_lower', 'type_lower', 'category_l2', 'category_l4', 'type_in_name']\n",
    "cat_features = [0, 1, 2, 3]\n",
    "\n",
    "X_train = train_df[features]\n",
    "y_train = train_df['target']\n",
    "X_test = test_df[features]\n",
    "y_test = test_df['target']\n",
    "\n",
    "train_pool = Pool(X_train, label=y_train, cat_features=cat_features)\n",
    "test_pool = Pool(X_test, label=y_test, cat_features=cat_features)\n",
    "\n",
    "model = CatBoostClassifier(\n",
    "    iterations=300,\n",
    "    learning_rate=0.2,\n",
    "    depth=6,\n",
    "    loss_function='Logloss',\n",
    "    eval_metric='AUC',\n",
    "    verbose=50,\n",
    "    random_state=42\n",
    ")\n",
    "model.fit(train_pool, eval_set=test_pool, early_stopping_rounds=30)"
   ]
  },
  {
   "cell_type": "code",
   "execution_count": 71,
   "id": "4b7b4ddf",
   "metadata": {},
   "outputs": [
    {
     "name": "stdout",
     "output_type": "stream",
     "text": [
      "ROC-AUC на тесте: 0.9874\n"
     ]
    }
   ],
   "source": [
    "y_pred_proba = model.predict_proba(test_pool)[:, 1]\n",
    "roc_auc = roc_auc_score(y_test, y_pred_proba)\n",
    "print(f'ROC-AUC на тесте: {roc_auc:.4f}')"
   ]
  },
  {
   "cell_type": "code",
   "execution_count": 87,
   "id": "afdbd3af",
   "metadata": {},
   "outputs": [
    {
     "name": "stdout",
     "output_type": "stream",
     "text": [
      "name_lower                      куртка\n",
      "type_lower      масло для смазки ножей\n",
      "category_l2                     Одежда\n",
      "category_l4                     Куртка\n",
      "type_in_name                     False\n",
      "Name: 2457, dtype: object\n",
      "               type_lower  probability\n",
      "0                  куртка     0.998737\n",
      "1                 пуховик     0.979840\n",
      "2          кожаная куртка     0.965312\n",
      "3        куртка джинсовая     0.939665\n",
      "4          куртка кожаная     0.920690\n",
      "5       пальто утепленное     0.900706\n",
      "6          пальто пуховое     0.850786\n",
      "7  дубленка искусственная     0.821118\n",
      "8                  пальто     0.697279\n",
      "9        джинсовая куртка     0.535280\n"
     ]
    }
   ],
   "source": [
    "unique_types = train_df['type_lower'].unique()\n",
    "\n",
    "def get_top_10_types(sample_row):\n",
    "    candidate_rows = []\n",
    "    for t in unique_types:\n",
    "        row = sample_row.copy()\n",
    "        row['type_lower'] = t\n",
    "        row['type_in_name'] = int(t in row['name_lower'])\n",
    "        candidate_rows.append(row)\n",
    "    df_candidates = pd.DataFrame(candidate_rows)\n",
    "\n",
    "    # Обязательно те же признаки и порядок\n",
    "    preds = model.predict_proba(df_candidates[features])[:, 1]\n",
    "    top_10_idx = preds.argsort()[::-1][:10]\n",
    "    top_10_types = df_candidates.iloc[top_10_idx][['type_lower']].copy()\n",
    "    top_10_types['probability'] = preds[top_10_idx]\n",
    "    return top_10_types.reset_index(drop=True)\n",
    "\n",
    "# Пример: ранжирование для первой строки теста\n",
    "sample = X_test.iloc[2457].copy()\n",
    "top_10 = get_top_10_types(sample)\n",
    "print(X_test.iloc[2457])\n",
    "print(top_10)"
   ]
  },
  {
   "cell_type": "code",
   "execution_count": 73,
   "id": "34b74254",
   "metadata": {},
   "outputs": [
    {
     "name": "stdout",
     "output_type": "stream",
     "text": [
      "name_lower: 18.205\n",
      "type_lower: 28.642\n",
      "category_l2: 10.537\n",
      "category_l4: 17.319\n",
      "type_in_name: 25.298\n"
     ]
    }
   ],
   "source": [
    "feature_importances = model.get_feature_importance(train_pool)\n",
    "for name, score in zip(features, feature_importances):\n",
    "    print(f\"{name}: {score:.3f}\")"
   ]
  }
 ],
 "metadata": {
  "kernelspec": {
   "display_name": "Python 3",
   "language": "python",
   "name": "python3"
  },
  "language_info": {
   "codemirror_mode": {
    "name": "ipython",
    "version": 3
   },
   "file_extension": ".py",
   "mimetype": "text/x-python",
   "name": "python",
   "nbconvert_exporter": "python",
   "pygments_lexer": "ipython3",
   "version": "3.12.2"
  }
 },
 "nbformat": 4,
 "nbformat_minor": 5
}

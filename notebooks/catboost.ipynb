{
 "cells": [
  {
   "cell_type": "code",
   "execution_count": 51,
   "id": "0bb1e2b0",
   "metadata": {},
   "outputs": [],
   "source": [
    "import pandas as pd\n",
    "\n",
    "#type\n",
    "train_df = pd.read_csv('../data/train_df.csv')\n",
    "test_df = pd.read_csv('../data/test_df.csv')"
   ]
  },
  {
   "cell_type": "code",
   "execution_count": 52,
   "id": "a216d4d8",
   "metadata": {},
   "outputs": [
    {
     "name": "stdout",
     "output_type": "stream",
     "text": [
      "0:\ttest: 0.9977446\tbest: 0.9977446 (0)\ttotal: 177ms\tremaining: 52.9s\n",
      "50:\ttest: 0.9995858\tbest: 0.9995858 (28)\ttotal: 4.7s\tremaining: 23s\n",
      "Stopped by overfitting detector  (30 iterations wait)\n",
      "\n",
      "bestTest = 0.9995858085\n",
      "bestIteration = 28\n",
      "\n",
      "Shrink model to first 29 iterations.\n"
     ]
    },
    {
     "data": {
      "text/plain": [
       "<catboost.core.CatBoostClassifier at 0x2202e6517c0>"
      ]
     },
     "execution_count": 52,
     "metadata": {},
     "output_type": "execute_result"
    }
   ],
   "source": [
    "from catboost import CatBoostClassifier, Pool\n",
    "from sklearn.metrics import roc_auc_score\n",
    "\n",
    "features = ['name_lower', 'type_lower', 'category_l2', 'category_l4', 'type_in_name']\n",
    "cat_features = [0, 1, 2, 3]\n",
    "\n",
    "X_train = train_df[features]\n",
    "y_train = train_df['target']\n",
    "X_test = test_df[features]\n",
    "y_test = test_df['target']\n",
    "\n",
    "train_pool = Pool(X_train, label=y_train, cat_features=cat_features)\n",
    "test_pool = Pool(X_test, label=y_test, cat_features=cat_features)\n",
    "\n",
    "model = CatBoostClassifier(\n",
    "    iterations=300,\n",
    "    learning_rate=0.2,\n",
    "    depth=6,\n",
    "    loss_function='Logloss',\n",
    "    eval_metric='AUC',\n",
    "    verbose=50,\n",
    "    random_state=42\n",
    ")\n",
    "model.fit(train_pool, eval_set=test_pool, early_stopping_rounds=30)"
   ]
  },
  {
   "cell_type": "code",
   "execution_count": 53,
   "id": "4b7b4ddf",
   "metadata": {},
   "outputs": [
    {
     "name": "stdout",
     "output_type": "stream",
     "text": [
      "ROC-AUC на тесте: 0.9996\n"
     ]
    }
   ],
   "source": [
    "y_pred_proba = model.predict_proba(test_pool)[:, 1]\n",
    "roc_auc = roc_auc_score(y_test, y_pred_proba)\n",
    "print(f'ROC-AUC на тесте: {roc_auc:.4f}')"
   ]
  },
  {
   "cell_type": "code",
   "execution_count": null,
   "id": "afdbd3af",
   "metadata": {},
   "outputs": [
    {
     "name": "stdout",
     "output_type": "stream",
     "text": [
      "name_lower      картина на холсте \"пионы в черно-белом стиле, ...\n",
      "type_lower                                                картина\n",
      "category_l2                                             Дом и сад\n",
      "category_l4                                               Картина\n",
      "type_in_name                                                 True\n",
      "Name: 7, dtype: object\n",
      "                          type_lower  probability\n",
      "0                            картина     0.999900\n",
      "1                            рассада     0.503371\n",
      "2                            саженец     0.503371\n",
      "3                             семена     0.373324\n",
      "4         комплект постельного белья     0.373324\n",
      "5                             кружка     0.361741\n",
      "6                             постер     0.272891\n",
      "7  печатная книга: пособие для школы     0.182506\n",
      "8                   фильтр топливный     0.182506\n",
      "9                            саквояж     0.182506\n"
     ]
    }
   ],
   "source": [
    "unique_types = train_df['type_lower'].unique()\n",
    "\n",
    "def get_top_10_types(sample_row):\n",
    "    candidate_rows = []\n",
    "    for t in unique_types:\n",
    "        row = sample_row.copy()\n",
    "        row['type_lower'] = t\n",
    "        row['type_in_name'] = int(t in row['name_lower'])\n",
    "        candidate_rows.append(row)\n",
    "    df_candidates = pd.DataFrame(candidate_rows)\n",
    "\n",
    "    # Обязательно те же признаки и порядок\n",
    "    preds = model.predict_proba(df_candidates[features])[:, 1]\n",
    "    top_10_idx = preds.argsort()[::-1][:10]\n",
    "    top_10_types = df_candidates.iloc[top_10_idx][['type_lower']].copy()\n",
    "    top_10_types['probability'] = preds[top_10_idx]\n",
    "    return top_10_types.reset_index(drop=True)\n",
    "\n",
    "# Пример: ранжирование для первой строки теста\n",
    "sample = X_test.iloc[7].copy()\n",
    "top_10 = get_top_10_types(sample)\n",
    "print(X_test.iloc[7])\n",
    "print(top_10)"
   ]
  },
  {
   "cell_type": "code",
   "execution_count": 55,
   "id": "34b74254",
   "metadata": {},
   "outputs": [
    {
     "name": "stdout",
     "output_type": "stream",
     "text": [
      "name_lower: 1.051\n",
      "type_lower: 48.704\n",
      "category_l2: 23.584\n",
      "category_l4: 4.500\n",
      "type_in_name: 22.161\n"
     ]
    }
   ],
   "source": [
    "feature_importances = model.get_feature_importance(train_pool)\n",
    "for name, score in zip(features, feature_importances):\n",
    "    print(f\"{name}: {score:.3f}\")"
   ]
  }
 ],
 "metadata": {
  "kernelspec": {
   "display_name": "Python 3",
   "language": "python",
   "name": "python3"
  },
  "language_info": {
   "codemirror_mode": {
    "name": "ipython",
    "version": 3
   },
   "file_extension": ".py",
   "mimetype": "text/x-python",
   "name": "python",
   "nbconvert_exporter": "python",
   "pygments_lexer": "ipython3",
   "version": "3.12.2"
  }
 },
 "nbformat": 4,
 "nbformat_minor": 5
}
